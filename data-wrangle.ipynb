{
 "cells": [
  {
   "cell_type": "code",
   "execution_count": 1,
   "metadata": {},
   "outputs": [],
   "source": [
    "from urllib.request import urlopen\n",
    "from bs4 import BeautifulSoup\n",
    "from pathlib import Path\n",
    "import glob\n",
    "import re\n",
    "import numpy as np\n",
    "import pandas as pd\n",
    "import xlsxwriter"
   ]
  },
  {
   "cell_type": "code",
   "execution_count": 2,
   "metadata": {},
   "outputs": [
    {
     "name": "stdout",
     "output_type": "stream",
     "text": [
      "778\n"
     ]
    }
   ],
   "source": [
    "folder = Path.cwd() / '2020'\n",
    "files = glob.glob('2020/**/**/*.htm')\n",
    "print(len(files))"
   ]
  },
  {
   "cell_type": "code",
   "execution_count": 3,
   "metadata": {},
   "outputs": [],
   "source": [
    "performance_files = []\n",
    "non_performance_files= []\n",
    "reqest_id = []\n",
    "staff_number = []\n",
    "name = []\n",
    "part_a_score = []\n",
    "part_b_score = []\n",
    "part_c_score123 = []\n",
    "part_c_score456 = []\n",
    "final_score = []\n",
    "def has_value(tag):\n",
    "    return tag.has_attr('value') \n",
    "def get_performance_files():\n",
    "    for file in files:\n",
    "        with open(file) as f:\n",
    "            html = open(f.name, \"r\")\n",
    "            soup = BeautifulSoup(html, \"html.parser\")\n",
    "            if soup.find(string=re.compile(\"Performance Evaluation Request\")) is not None:\n",
    "                \n",
    "                reqest_id.append(soup.find(id=\"CURRENT_REQUEST\").text)\n",
    "                staff_number.append(soup.find(class_=\"FieldValueInput FieldValueInputReadonly\",id=\"REQUESTER\")['value'])\n",
    "                name.append(soup.find('span',id='REQUESTER_NAME').text)\n",
    "                part_a_score.append(soup.find(id='PART_A_SCORE')['value'])\n",
    "                \n",
    "                part_b_score.append(\"0\" if soup.find(id='PART_B_SCORE') is None or not soup.find(id='PART_B_SCORE').has_attr('value') else soup.find(id='PART_B_SCORE')['value'])\n",
    "                part_c_score123.append(\"0\" if soup.find(id='PART_C_SCORE_123') is None or not soup.find(id='PART_C_SCORE_123').has_attr('value') else soup.find(id='PART_C_SCORE_123')['value'] )\n",
    "                part_c_score456.append(\"0\" if soup.find(id='PART_C_SCORE_456') is None or not soup.find(id='PART_C_SCORE_456').has_attr('value') else soup.find(id='PART_C_SCORE_456')['value'])\n",
    "                final_score.append(\"0\" if soup.find(id='FINAL_SCORE')is None or not soup.find(id='FINAL_SCORE').has_attr('value') else soup.find(id='FINAL_SCORE')['value'])\n",
    "            else:\n",
    "                non_performance_files.append(f.name)"
   ]
  },
  {
   "cell_type": "code",
   "execution_count": 4,
   "metadata": {},
   "outputs": [],
   "source": [
    "# url = \"2020/09/02/277827114-1.htm\"\n",
    "# page = urlopen(url)\n",
    "# html = open(\"2020/09/02/277827114-1.htm\", \"r\")\n",
    "# soup = BeautifulSoup(html, \"html.parser\")\n",
    "get_performance_files()\n"
   ]
  },
  {
   "cell_type": "code",
   "execution_count": 5,
   "metadata": {},
   "outputs": [],
   "source": [
    "# soup.find(string=re.compile(\"Performance Evaluation Request\"))"
   ]
  },
  {
   "cell_type": "code",
   "execution_count": 6,
   "metadata": {},
   "outputs": [],
   "source": [
    "# print(name)\n",
    "#a = np.array(reqest_id,staff_number,name,part_a_score,part_b_score,)\n",
    "final_output = {'wfg_id':reqest_id,'stuff_number':staff_number,'name':name,'part_a_score':part_a_score,'part_b_score':part_b_score,'part_c_score123':part_c_score123,'part_c_score456':part_c_score456,'final_score':final_score}"
   ]
  },
  {
   "cell_type": "code",
   "execution_count": 7,
   "metadata": {},
   "outputs": [],
   "source": [
    "df = pd.DataFrame(final_output)"
   ]
  },
  {
   "cell_type": "code",
   "execution_count": 8,
   "metadata": {},
   "outputs": [],
   "source": [
    "# df.sort_values(['A', 'B'], ascending=False).drop_duplicates(subset=[\"A\"], keep=\"first\")"
   ]
  },
  {
   "cell_type": "code",
   "execution_count": 12,
   "metadata": {},
   "outputs": [],
   "source": [
    "df = df.sort_values('final_score', ascending=False).drop_duplicates('wfg_id').sort_index()"
   ]
  },
  {
   "cell_type": "code",
   "execution_count": 13,
   "metadata": {},
   "outputs": [
    {
     "data": {
      "text/html": [
       "<div>\n",
       "<style scoped>\n",
       "    .dataframe tbody tr th:only-of-type {\n",
       "        vertical-align: middle;\n",
       "    }\n",
       "\n",
       "    .dataframe tbody tr th {\n",
       "        vertical-align: top;\n",
       "    }\n",
       "\n",
       "    .dataframe thead th {\n",
       "        text-align: right;\n",
       "    }\n",
       "</style>\n",
       "<table border=\"1\" class=\"dataframe\">\n",
       "  <thead>\n",
       "    <tr style=\"text-align: right;\">\n",
       "      <th></th>\n",
       "      <th>wfg_id</th>\n",
       "      <th>stuff_number</th>\n",
       "      <th>name</th>\n",
       "      <th>part_a_score</th>\n",
       "      <th>part_b_score</th>\n",
       "      <th>part_c_score123</th>\n",
       "      <th>part_c_score456</th>\n",
       "      <th>final_score</th>\n",
       "    </tr>\n",
       "  </thead>\n",
       "  <tbody>\n",
       "    <tr>\n",
       "      <th>0</th>\n",
       "      <td>2056167</td>\n",
       "      <td>KGN70193</td>\n",
       "      <td>Eric Munyiri</td>\n",
       "      <td>40.8</td>\n",
       "      <td>0</td>\n",
       "      <td>0</td>\n",
       "      <td>0</td>\n",
       "      <td>40.8</td>\n",
       "    </tr>\n",
       "    <tr>\n",
       "      <th>1</th>\n",
       "      <td>2056163</td>\n",
       "      <td>KGN70025</td>\n",
       "      <td>David Serem</td>\n",
       "      <td>40.8</td>\n",
       "      <td>0</td>\n",
       "      <td>0</td>\n",
       "      <td>0</td>\n",
       "      <td>40.8</td>\n",
       "    </tr>\n",
       "    <tr>\n",
       "      <th>4</th>\n",
       "      <td>2056125</td>\n",
       "      <td>kgn90743</td>\n",
       "      <td>Korir Dennis</td>\n",
       "      <td>40.8</td>\n",
       "      <td>0</td>\n",
       "      <td>0</td>\n",
       "      <td>0</td>\n",
       "      <td>0</td>\n",
       "    </tr>\n",
       "    <tr>\n",
       "      <th>5</th>\n",
       "      <td>2056094</td>\n",
       "      <td>KGN70422</td>\n",
       "      <td>Michell Oduor</td>\n",
       "      <td>40.8</td>\n",
       "      <td>0</td>\n",
       "      <td>0</td>\n",
       "      <td>0</td>\n",
       "      <td>0</td>\n",
       "    </tr>\n",
       "    <tr>\n",
       "      <th>10</th>\n",
       "      <td>2056095</td>\n",
       "      <td>KGN70422</td>\n",
       "      <td>Michell Oduor</td>\n",
       "      <td>40.8</td>\n",
       "      <td>0</td>\n",
       "      <td>0</td>\n",
       "      <td>0</td>\n",
       "      <td>0</td>\n",
       "    </tr>\n",
       "    <tr>\n",
       "      <th>...</th>\n",
       "      <td>...</td>\n",
       "      <td>...</td>\n",
       "      <td>...</td>\n",
       "      <td>...</td>\n",
       "      <td>...</td>\n",
       "      <td>...</td>\n",
       "      <td>...</td>\n",
       "      <td>...</td>\n",
       "    </tr>\n",
       "    <tr>\n",
       "      <th>299</th>\n",
       "      <td>2056997</td>\n",
       "      <td>KGN70425</td>\n",
       "      <td>Edwin Karanja</td>\n",
       "      <td>40.8</td>\n",
       "      <td>0</td>\n",
       "      <td>0</td>\n",
       "      <td>7.77</td>\n",
       "      <td>48.57</td>\n",
       "    </tr>\n",
       "    <tr>\n",
       "      <th>304</th>\n",
       "      <td>2056996</td>\n",
       "      <td>KGN90743</td>\n",
       "      <td>Dennis Korir</td>\n",
       "      <td>40.8</td>\n",
       "      <td>0</td>\n",
       "      <td>0</td>\n",
       "      <td>0</td>\n",
       "      <td>40.8</td>\n",
       "    </tr>\n",
       "    <tr>\n",
       "      <th>306</th>\n",
       "      <td>2056995</td>\n",
       "      <td>KGN90743</td>\n",
       "      <td>Dennis Korir</td>\n",
       "      <td>40.8</td>\n",
       "      <td>0</td>\n",
       "      <td>0</td>\n",
       "      <td>0</td>\n",
       "      <td>40.8</td>\n",
       "    </tr>\n",
       "    <tr>\n",
       "      <th>309</th>\n",
       "      <td>2057407</td>\n",
       "      <td>KGN90743</td>\n",
       "      <td>Dennis Korir</td>\n",
       "      <td>40.8</td>\n",
       "      <td>24.32</td>\n",
       "      <td>0</td>\n",
       "      <td>0</td>\n",
       "      <td>65.12</td>\n",
       "    </tr>\n",
       "    <tr>\n",
       "      <th>312</th>\n",
       "      <td>2057411</td>\n",
       "      <td>KGN70401</td>\n",
       "      <td>Faith Katua</td>\n",
       "      <td>40.8</td>\n",
       "      <td>24</td>\n",
       "      <td>0</td>\n",
       "      <td>8.05</td>\n",
       "      <td>72.85</td>\n",
       "    </tr>\n",
       "  </tbody>\n",
       "</table>\n",
       "<p>117 rows × 8 columns</p>\n",
       "</div>"
      ],
      "text/plain": [
       "      wfg_id stuff_number           name part_a_score part_b_score  \\\n",
       "0    2056167     KGN70193   Eric Munyiri         40.8            0   \n",
       "1    2056163     KGN70025    David Serem         40.8            0   \n",
       "4    2056125     kgn90743   Korir Dennis         40.8            0   \n",
       "5    2056094     KGN70422  Michell Oduor         40.8            0   \n",
       "10   2056095     KGN70422  Michell Oduor         40.8            0   \n",
       "..       ...          ...            ...          ...          ...   \n",
       "299  2056997     KGN70425  Edwin Karanja         40.8            0   \n",
       "304  2056996     KGN90743   Dennis Korir         40.8            0   \n",
       "306  2056995     KGN90743   Dennis Korir         40.8            0   \n",
       "309  2057407     KGN90743   Dennis Korir         40.8        24.32   \n",
       "312  2057411     KGN70401    Faith Katua         40.8           24   \n",
       "\n",
       "    part_c_score123 part_c_score456 final_score  \n",
       "0                 0               0        40.8  \n",
       "1                 0               0        40.8  \n",
       "4                 0               0           0  \n",
       "5                 0               0           0  \n",
       "10                0               0           0  \n",
       "..              ...             ...         ...  \n",
       "299               0            7.77       48.57  \n",
       "304               0               0        40.8  \n",
       "306               0               0        40.8  \n",
       "309               0               0       65.12  \n",
       "312               0            8.05       72.85  \n",
       "\n",
       "[117 rows x 8 columns]"
      ]
     },
     "metadata": {},
     "output_type": "display_data"
    }
   ],
   "source": [
    "display(df)"
   ]
  },
  {
   "cell_type": "code",
   "execution_count": 11,
   "metadata": {},
   "outputs": [],
   "source": [
    "# df.to_excel(\"output.xlsx\", engine='xlsxwriter')"
   ]
  },
  {
   "cell_type": "code",
   "execution_count": null,
   "metadata": {},
   "outputs": [],
   "source": []
  }
 ],
 "metadata": {
  "kernelspec": {
   "display_name": "webscraping-env",
   "language": "python",
   "name": "webscraping-env"
  },
  "language_info": {
   "codemirror_mode": {
    "name": "ipython",
    "version": 3
   },
   "file_extension": ".py",
   "mimetype": "text/x-python",
   "name": "python",
   "nbconvert_exporter": "python",
   "pygments_lexer": "ipython3",
   "version": "3.8.0"
  }
 },
 "nbformat": 4,
 "nbformat_minor": 4
}
